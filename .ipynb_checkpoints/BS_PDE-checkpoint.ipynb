{
 "cells": [
  {
   "cell_type": "code",
   "execution_count": null,
   "metadata": {},
   "outputs": [],
   "source": [
    "### Solving Black Scholes PDE using NN"
   ]
  },
  {
   "cell_type": "code",
   "execution_count": 21,
   "metadata": {},
   "outputs": [
    {
     "name": "stdout",
     "output_type": "stream",
     "text": [
      "Collecting tensor\n",
      "  Downloading tensor-0.3.6.tar.gz (50 kB)\n",
      "\u001b[K     |████████████████████████████████| 50 kB 8.3 MB/s  eta 0:00:01\n",
      "\u001b[?25hCollecting Twisted\n",
      "  Downloading Twisted-22.2.0-py3-none-any.whl (3.1 MB)\n",
      "\u001b[K     |████████████████████████████████| 3.1 MB 37.2 MB/s eta 0:00:01\n",
      "\u001b[?25hRequirement already satisfied: PyYaml in /opt/conda/lib/python3.8/site-packages (from tensor) (5.3.1)\n",
      "Requirement already satisfied: protobuf in /opt/conda/lib/python3.8/site-packages (from tensor) (3.12.4)\n",
      "Collecting construct\n",
      "  Downloading construct-2.10.68.tar.gz (57 kB)\n",
      "\u001b[K     |████████████████████████████████| 57 kB 9.7 MB/s  eta 0:00:01\n",
      "\u001b[?25hCollecting pysnmp\n",
      "  Downloading pysnmp-4.4.12-py2.py3-none-any.whl (296 kB)\n",
      "\u001b[K     |████████████████████████████████| 296 kB 50.5 MB/s eta 0:00:01\n",
      "\u001b[?25hRequirement already satisfied: typing-extensions>=3.6.5 in /opt/conda/lib/python3.8/site-packages (from Twisted->tensor) (3.7.4.2)\n",
      "Requirement already satisfied: attrs>=19.2.0 in /opt/conda/lib/python3.8/site-packages (from Twisted->tensor) (20.1.0)\n",
      "Collecting constantly>=15.1\n",
      "  Downloading constantly-15.1.0-py2.py3-none-any.whl (7.9 kB)\n",
      "Collecting incremental>=21.3.0\n",
      "  Downloading incremental-21.3.0-py2.py3-none-any.whl (15 kB)\n",
      "Collecting Automat>=0.8.0\n",
      "  Downloading Automat-20.2.0-py2.py3-none-any.whl (31 kB)\n",
      "Collecting zope.interface>=4.4.2\n",
      "  Downloading zope.interface-5.4.0-cp38-cp38-manylinux2010_x86_64.whl (259 kB)\n",
      "\u001b[K     |████████████████████████████████| 259 kB 53.8 MB/s eta 0:00:01\n",
      "\u001b[?25hCollecting hyperlink>=17.1.1\n",
      "  Downloading hyperlink-21.0.0-py2.py3-none-any.whl (74 kB)\n",
      "\u001b[K     |████████████████████████████████| 74 kB 6.0 MB/s  eta 0:00:01\n",
      "\u001b[?25hRequirement already satisfied: six>=1.9 in /opt/conda/lib/python3.8/site-packages (from protobuf->tensor) (1.15.0)\n",
      "Requirement already satisfied: setuptools in /opt/conda/lib/python3.8/site-packages (from protobuf->tensor) (49.6.0.post20200814)\n",
      "Collecting pycryptodomex\n",
      "  Downloading pycryptodomex-3.14.1-cp35-abi3-manylinux2010_x86_64.whl (2.0 MB)\n",
      "\u001b[K     |████████████████████████████████| 2.0 MB 58.8 MB/s eta 0:00:01\n",
      "\u001b[?25hRequirement already satisfied: pyasn1>=0.2.3 in /opt/conda/lib/python3.8/site-packages (from pysnmp->tensor) (0.4.8)\n",
      "Collecting pysmi\n",
      "  Downloading pysmi-0.3.4-py2.py3-none-any.whl (80 kB)\n",
      "\u001b[K     |████████████████████████████████| 80 kB 13.5 MB/s eta 0:00:01\n",
      "\u001b[?25hRequirement already satisfied: idna>=2.5 in /opt/conda/lib/python3.8/site-packages (from hyperlink>=17.1.1->Twisted->tensor) (2.10)\n",
      "Collecting ply\n",
      "  Downloading ply-3.11-py2.py3-none-any.whl (49 kB)\n",
      "\u001b[K     |████████████████████████████████| 49 kB 10.8 MB/s eta 0:00:01\n",
      "\u001b[?25hBuilding wheels for collected packages: tensor, construct\n",
      "  Building wheel for tensor (setup.py) ... \u001b[?25ldone\n",
      "\u001b[?25h  Created wheel for tensor: filename=tensor-0.3.6-py3-none-any.whl size=71568 sha256=81eb8ebd213e2ac138394b6dbac37be4bfa81195e3491a2cb2e4b3cd95f9a007\n",
      "  Stored in directory: /home/jovyan/.cache/pip/wheels/a8/4e/f1/bb2a5de7e97bf4cda65db23ca21cecc54772d9ecf065460983\n",
      "  Building wheel for construct (setup.py) ... \u001b[?25ldone\n",
      "\u001b[?25h  Created wheel for construct: filename=construct-2.10.68-py3-none-any.whl size=59210 sha256=bc9bddb1c0b13dbf839155f0b4cbd53e21e3ec2ce13cbd66b7fc2c5ad892c0e4\n",
      "  Stored in directory: /home/jovyan/.cache/pip/wheels/cf/58/27/8a7c57f4e85722ec338b53cef911ca3ebfe5e9f56c750532a2\n",
      "Successfully built tensor construct\n",
      "Installing collected packages: constantly, incremental, Automat, zope.interface, hyperlink, Twisted, construct, pycryptodomex, ply, pysmi, pysnmp, tensor\n",
      "Successfully installed Automat-20.2.0 Twisted-22.2.0 constantly-15.1.0 construct-2.10.68 hyperlink-21.0.0 incremental-21.3.0 ply-3.11 pycryptodomex-3.14.1 pysmi-0.3.4 pysnmp-4.4.12 tensor-0.3.6 zope.interface-5.4.0\n"
     ]
    }
   ],
   "source": [
    "! pip install tensor"
   ]
  },
  {
   "cell_type": "code",
   "execution_count": 11,
   "metadata": {},
   "outputs": [],
   "source": [
    "import sys\n",
    "import numpy as np\n",
    "import torch\n",
    "from torch import nn\n",
    "\n",
    "import matplotlib.pyplot as plt\n",
    "import scipy.stats as si\n",
    "sys.path.append(\"../../\")"
   ]
  },
  {
   "cell_type": "code",
   "execution_count": 12,
   "metadata": {},
   "outputs": [],
   "source": [
    "from pydens import Solver, D, V, ConvBlockModel\n",
    "from pydens import NumpySampler as NS"
   ]
  },
  {
   "cell_type": "code",
   "execution_count": 13,
   "metadata": {},
   "outputs": [],
   "source": [
    "def plot_loss(loss):\n",
    "    plt.plot(loss)\n",
    "    plt.grid()\n",
    "    plt.xlabel('ITERATION', fontsize=16)\n",
    "    plt.ylabel('L1-loss', fontsize=16)"
   ]
  },
  {
   "cell_type": "code",
   "execution_count": 14,
   "metadata": {},
   "outputs": [],
   "source": [
    "def plot_approximation_1d(points, approximation, solution_function, savepath=None,\n",
    "                          title=None, ylim=None):\n",
    "    if isinstance(points, torch.Tensor):\n",
    "        points = points.detach().numpy()\n",
    "    if isinstance(approximation, torch.Tensor):\n",
    "        approximation = approximation.detach().numpy()\n",
    "\n",
    "    plt.plot(points, approximation, label='Neural Network approximation',\n",
    "             linewidth=5, alpha=0.8)\n",
    "    plt.plot(points, solution_function(points), label='Known analytical solution',\n",
    "             linewidth=2)\n",
    "    plt.xlabel(r'$x$', fontsize=16)\n",
    "    plt.ylabel(r'$\\hat{f}(x)$', fontsize=16)\n",
    "    plt.grid()\n",
    "    plt.legend(fontsize=12, loc=1)\n",
    "\n",
    "    if ylim is not None:\n",
    "        plt.ylim(ylim)\n",
    "\n",
    "    if title is not None:\n",
    "      plt.title(title, fontsize=16)\n",
    "\n",
    "    if savepath is not None:\n",
    "        plt.savefig(savepath, dpi=300)"
   ]
  },
  {
   "cell_type": "code",
   "execution_count": 15,
   "metadata": {},
   "outputs": [],
   "source": [
    "def plot_approximation_2d(approximation):\n",
    "    plt.imshow(approximation)\n",
    "    plt.colorbar()\n",
    "    plt.title(r'$\\hat{f}(x, y)$', fontsize=16)\n",
    "    plt.xlabel(r'$x$', fontsize=16)\n",
    "    plt.ylabel(r'$y$', fontsize=16)"
   ]
  },
  {
   "cell_type": "code",
   "execution_count": 16,
   "metadata": {},
   "outputs": [],
   "source": [
    "def cart_prod(*arrs):\n",
    "    \"\"\" Get array of cartesian tuples from arbitrary number of arrays.\n",
    "    \"\"\"\n",
    "    grids = np.meshgrid(*arrs, indexing='ij')\n",
    "    return np.stack(grids, axis=-1).reshape(-1, len(arrs))"
   ]
  },
  {
   "cell_type": "code",
   "execution_count": null,
   "metadata": {},
   "outputs": [],
   "source": []
  },
  {
   "cell_type": "markdown",
   "metadata": {},
   "source": [
    "### Black-Schole PDE\n",
    "$$ rs\\frac{\\partial v}{\\partial s} + \\frac{\\partial v}{\\partial t}  - \\frac{1}{2} \\frac{\\partial^2 v}{\\partial s^2} -rv = 0 \\\\\n",
    " u(s, t) = max(S-K)  s>0 \\\\\n",
    " u(0,t)=0\\\\\n",
    " {\\frac{u(s,t)}{s}}=1 , s -> \\infty $$\n",
    " \n",
    "### Transformation from terminal to initial condition\n"
   ]
  },
  {
   "cell_type": "markdown",
   "metadata": {},
   "source": [
    "https://www.mimuw.edu.pl/~apalczew/CFP_lecture6.pdf\n",
    "\n",
    "Set $$x = \\log(s)+(r-\\frac{1}{2}\\sigma ^{2})(T-t)\\\\\n",
    "\\gamma=\\frac{\\sigma ^{2}}{t}(T-t)$$\n",
    "\n",
    "We then have heat equation where \n",
    "\n",
    "$$  \\frac{\\partial v}{\\partial t} - \\frac{\\partial^2 v}{\\partial x^2} =0$$"
   ]
  },
  {
   "cell_type": "code",
   "execution_count": 17,
   "metadata": {},
   "outputs": [],
   "source": [
    "# INIT Conditions\n",
    "r=0.01\n",
    "s=100\n",
    "k=120\n",
    "vol=0.5\n",
    "t=0.5\n",
    "right='call'\n",
    "\n"
   ]
  },
  {
   "cell_type": "code",
   "execution_count": 18,
   "metadata": {},
   "outputs": [],
   "source": [
    " def euro_vanilla(s,k,t,r,vol,right):\n",
    "        '''\n",
    "        Given  Contract Properties ( underlying, strike, rate, expiration) returns the price of option\n",
    "        \n",
    "        '''\n",
    "        d1 = (np.log(s / k) + (r + 0.5 *( vol ** 2)) * t) / (vol * np.sqrt(t)) #local d1, d2 for solving\n",
    "        d2 = (np.log(s / k) + (r - 0.5 * (vol ** 2)) * t) / (vol* np.sqrt(t))\n",
    "        \n",
    "        if right == 'call':\n",
    "            return (s * si.norm.cdf(d1, 0.0, 1.0) -  k* np.exp(-r * t) * si.norm.cdf(d2, 0.0, 1.0))\n",
    "        else:\n",
    "            return (k * np.exp(-r * t) * si.norm.cdf(-d2, 0.0, 1.0) - s  * si.norm.cdf(-d1, 0.0, 1.0))\n",
    "         "
   ]
  },
  {
   "cell_type": "code",
   "execution_count": 19,
   "metadata": {},
   "outputs": [
    {
     "data": {
      "text/plain": [
       "7.562654747822169"
      ]
     },
     "execution_count": 19,
     "metadata": {},
     "output_type": "execute_result"
    }
   ],
   "source": [
    "euro_vanilla(s,k,t,r,vol,right)"
   ]
  },
  {
   "cell_type": "code",
   "execution_count": 70,
   "metadata": {},
   "outputs": [],
   "source": [
    "def pde(v, x, t):\n",
    "    return D(v,t)-D(D(v,x),x)"
   ]
  },
  {
   "cell_type": "code",
   "execution_count": 166,
   "metadata": {},
   "outputs": [
    {
     "name": "stderr",
     "output_type": "stream",
     "text": [
      "<ipython-input-166-630db965f4fc>:10: UserWarning: To copy construct from a tensor, it is recommended to use sourceTensor.clone().detach() or sourceTensor.clone().detach().requires_grad_(True), rather than torch.tensor(sourceTensor).\n",
      "  boundary_condition= torch.exp(torch.tensor(-r*(T-torch.tensor(2/(vol**2)*torch.tensor(t))))), layout='fafaf', units=[30, 40, 1], activation='Sigmoid')\n",
      "<ipython-input-166-630db965f4fc>:9: UserWarning: To copy construct from a tensor, it is recommended to use sourceTensor.clone().detach() or sourceTensor.clone().detach().requires_grad_(True), rather than torch.tensor(sourceTensor).\n",
      "  initial_condition=lambda x: torch.exp(torch.tensor(-r*T))*torch.tensor(torch.max(torch.exp(x)-k,torch.tensor(0)) ), # error when it is set to zero\n"
     ]
    }
   ],
   "source": [
    "r=0.01\n",
    "s=100\n",
    "k=120\n",
    "vol=0.5\n",
    "t=0.5\n",
    "\n",
    "\n",
    "solver = Solver(pde, ndims=2,\n",
    "                 initial_condition=lambda x: torch.exp(torch.tensor(-r*T))*torch.tensor(torch.max(torch.exp(x)-k,torch.tensor(0)) ), # error when it is set to zero\n",
    "                boundary_condition= torch.exp(torch.tensor(-r*(T-torch.tensor(2/(vol**2)*torch.tensor(t))))), layout='fafaf', units=[30, 40, 1], activation='Sigmoid')"
   ]
  },
  {
   "cell_type": "markdown",
   "metadata": {},
   "source": [
    "### Issue is with iterating over BC"
   ]
  },
  {
   "cell_type": "code",
   "execution_count": 167,
   "metadata": {},
   "outputs": [],
   "source": [
    "sampler = NS('u', dim=2) & NS('u', low=0, high=.5) &  NS('u', low=.1, high=4)"
   ]
  },
  {
   "cell_type": "code",
   "execution_count": 168,
   "metadata": {},
   "outputs": [
    {
     "name": "stderr",
     "output_type": "stream",
     "text": [
      "  0%|          | 0/1000 [00:00<?, ?it/s]<ipython-input-166-630db965f4fc>:9: UserWarning: To copy construct from a tensor, it is recommended to use sourceTensor.clone().detach() or sourceTensor.clone().detach().requires_grad_(True), rather than torch.tensor(sourceTensor).\n",
      "  initial_condition=lambda x: torch.exp(torch.tensor(-r*T))*torch.tensor(torch.max(torch.exp(x)-k,torch.tensor(0)) ), # error when it is set to zero\n",
      "100%|██████████| 1000/1000 [00:08<00:00, 117.08it/s]\n"
     ]
    }
   ],
   "source": [
    "solver.fit(niters=1000, batch_size=1500, lr=0.005)"
   ]
  },
  {
   "cell_type": "code",
   "execution_count": 169,
   "metadata": {},
   "outputs": [
    {
     "data": {
      "image/png": "[encoded data removed]",
      "text/plain": [
       "<Figure size 432x288 with 1 Axes>"
      ]
     },
     "metadata": {
      "needs_background": "light"
     },
     "output_type": "display_data"
    }
   ],
   "source": [
    "plot_loss(solver.losses[:])"
   ]
  },
  {
   "cell_type": "code",
   "execution_count": 170,
   "metadata": {},
   "outputs": [
    {
     "name": "stderr",
     "output_type": "stream",
     "text": [
      "<ipython-input-166-630db965f4fc>:9: UserWarning: To copy construct from a tensor, it is recommended to use sourceTensor.clone().detach() or sourceTensor.clone().detach().requires_grad_(True), rather than torch.tensor(sourceTensor).\n",
      "  initial_condition=lambda x: torch.exp(torch.tensor(-r*T))*torch.tensor(torch.max(torch.exp(x)-k,torch.tensor(0)) ), # error when it is set to zero\n"
     ]
    }
   ],
   "source": [
    "# checking out the solution approximation for fixed epsilon\n",
    "xs = torch.tensor(np.linspace(torch.log(torch.tensor(70)), torch.log(torch.tensor(200)), 100)).float()\n",
    "eps = 4\n",
    "approxs = solver.predict(xs, eps)"
   ]
  },
  {
   "cell_type": "code",
   "execution_count": 171,
   "metadata": {},
   "outputs": [
    {
     "name": "stderr",
     "output_type": "stream",
     "text": [
      "<ipython-input-166-630db965f4fc>:9: UserWarning: To copy construct from a tensor, it is recommended to use sourceTensor.clone().detach() or sourceTensor.clone().detach().requires_grad_(True), rather than torch.tensor(sourceTensor).\n",
      "  initial_condition=lambda x: torch.exp(torch.tensor(-r*T))*torch.tensor(torch.max(torch.exp(x)-k,torch.tensor(0)) ), # error when it is set to zero\n"
     ]
    },
    {
     "data": {
      "image/png": "[encoded data removed]",
      "text/plain": [
       "<Figure size 432x288 with 1 Axes>"
      ]
     },
     "metadata": {
      "needs_background": "light"
     },
     "output_type": "display_data"
    }
   ],
   "source": [
    "plot_approximation_1d(xs, solver.predict(xs, eps), lambda x: euro_vanilla(np.exp(x),k,t,r,vol,right),title='European Call Pricing')"
   ]
  },
  {
   "cell_type": "code",
   "execution_count": null,
   "metadata": {},
   "outputs": [],
   "source": []
  }
 ],
 "metadata": {
  "kernelspec": {
   "display_name": "Python 3",
   "language": "python",
   "name": "python3"
  },
  "language_info": {
   "codemirror_mode": {
    "name": "ipython",
    "version": 3
   },
   "file_extension": ".py",
   "mimetype": "text/x-python",
   "name": "python",
   "nbconvert_exporter": "python",
   "pygments_lexer": "ipython3",
   "version": "3.8.5"
  }
 },
 "nbformat": 4,
 "nbformat_minor": 4
}
